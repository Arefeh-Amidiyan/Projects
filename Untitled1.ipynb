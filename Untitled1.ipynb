{
 "cells": [
  {
   "cell_type": "code",
   "execution_count": 1,
   "id": "c7195fc7-346e-4b7e-abfc-c2159a898750",
   "metadata": {},
   "outputs": [],
   "source": [
    "def is_even(number: int)->bool :\n",
    "    \"\"\"\n",
    "    Checks if a number is an even number.\n",
    "    :param number: integer to be checked\n",
    "    :return: boolean flag indicate case\n",
    "    \"\"\"\n",
    "    return number%2 == 0"
   ]
  },
  {
   "cell_type": "code",
   "execution_count": 9,
   "id": "70bdec78-ca9d-4569-96c3-38f28901a625",
   "metadata": {},
   "outputs": [],
   "source": [
    "def power(number: int, m: int = 2)->int:\n",
    "    \"\"\"\n",
    "    calculate the power of a number.\n",
    "    :param number: integer to be calculated\n",
    "    :return: result of power function\n",
    "    \"\"\"\n",
    "    return number ** m"
   ]
  },
  {
   "cell_type": "code",
   "execution_count": 5,
   "id": "49c58f6b-a5e8-4753-a084-d8e7c3ac3316",
   "metadata": {},
   "outputs": [
    {
     "data": {
      "text/plain": [
       "[2, 4, 6, 8, 10]"
      ]
     },
     "execution_count": 5,
     "metadata": {},
     "output_type": "execute_result"
    }
   ],
   "source": [
    "list(filter(lambda n: n%2==0, range(1,11)))"
   ]
  },
  {
   "cell_type": "code",
   "execution_count": 10,
   "id": "c81c9981-d098-47c8-923a-16c9a5c00e02",
   "metadata": {},
   "outputs": [
    {
     "data": {
      "text/plain": [
       "[1, 4, 9, 16, 25, 36, 49, 64, 81, 100]"
      ]
     },
     "execution_count": 10,
     "metadata": {},
     "output_type": "execute_result"
    }
   ],
   "source": [
    "list(map(power, range(1,11)))"
   ]
  },
  {
   "cell_type": "code",
   "execution_count": 11,
   "id": "26b1faab-07ec-41e4-96a3-ff703c572987",
   "metadata": {},
   "outputs": [
    {
     "data": {
      "text/plain": [
       "9"
      ]
     },
     "execution_count": 11,
     "metadata": {},
     "output_type": "execute_result"
    }
   ],
   "source": [
    "power(3)"
   ]
  },
  {
   "cell_type": "code",
   "execution_count": 12,
   "id": "4768dda3-93f6-476e-a41e-e8066e94ed7c",
   "metadata": {},
   "outputs": [
    {
     "data": {
      "text/plain": [
       "27"
      ]
     },
     "execution_count": 12,
     "metadata": {},
     "output_type": "execute_result"
    }
   ],
   "source": [
    "power(3,3)"
   ]
  },
  {
   "cell_type": "code",
   "execution_count": 13,
   "id": "2726563b-5b40-432e-a065-5ff995195c44",
   "metadata": {},
   "outputs": [
    {
     "data": {
      "text/plain": [
       "81"
      ]
     },
     "execution_count": 13,
     "metadata": {},
     "output_type": "execute_result"
    }
   ],
   "source": [
    "power(3,4)"
   ]
  },
  {
   "cell_type": "code",
   "execution_count": 14,
   "id": "120c3416-b26f-4ed9-aac7-75beaccf373d",
   "metadata": {},
   "outputs": [
    {
     "data": {
      "text/plain": [
       "64"
      ]
     },
     "execution_count": 14,
     "metadata": {},
     "output_type": "execute_result"
    }
   ],
   "source": [
    "power(4,3)"
   ]
  },
  {
   "cell_type": "code",
   "execution_count": 15,
   "id": "be64f87e-0464-4eae-a94d-47ad6178fa9b",
   "metadata": {},
   "outputs": [
    {
     "data": {
      "text/plain": [
       "81"
      ]
     },
     "execution_count": 15,
     "metadata": {},
     "output_type": "execute_result"
    }
   ],
   "source": [
    "power(m=4, number=3)"
   ]
  },
  {
   "cell_type": "code",
   "execution_count": 29,
   "id": "22d27cb6-1ec1-40fb-8088-b8f941fb9bc8",
   "metadata": {},
   "outputs": [],
   "source": [
    "def power_mod(number: int, /, m: int, *, mode:int)->int:\n",
    "    \"\"\"\n",
    "    calculate the power of a number.\n",
    "    :param number: integer to be calculated\n",
    "    :return: result of power function\n",
    "    \"\"\"\n",
    "    return (number ** m) % mode"
   ]
  },
  {
   "cell_type": "code",
   "execution_count": 19,
   "id": "f752efe9-11a3-42b0-a619-c327b836d67e",
   "metadata": {},
   "outputs": [
    {
     "data": {
      "text/plain": [
       "256"
      ]
     },
     "execution_count": 19,
     "metadata": {},
     "output_type": "execute_result"
    }
   ],
   "source": [
    "power_mod(4,mode=10**6,m=4)"
   ]
  },
  {
   "cell_type": "code",
   "execution_count": 20,
   "id": "f7de6702-90e0-4a70-a826-8c105dcce485",
   "metadata": {},
   "outputs": [
    {
     "data": {
      "text/plain": [
       "64"
      ]
     },
     "execution_count": 20,
     "metadata": {},
     "output_type": "execute_result"
    }
   ],
   "source": [
    "power_mod(4,mode=10**6,m=3)"
   ]
  },
  {
   "cell_type": "code",
   "execution_count": 21,
   "id": "bbadddfe-2464-44b3-8ea1-531c74d48a82",
   "metadata": {},
   "outputs": [
    {
     "data": {
      "text/plain": [
       "64"
      ]
     },
     "execution_count": 21,
     "metadata": {},
     "output_type": "execute_result"
    }
   ],
   "source": [
    "power_mod(4,3,10**6)"
   ]
  },
  {
   "cell_type": "code",
   "execution_count": 22,
   "id": "d8970da9-845a-4188-812a-b20d20d2f13f",
   "metadata": {},
   "outputs": [
    {
     "data": {
      "text/plain": [
       "64"
      ]
     },
     "execution_count": 22,
     "metadata": {},
     "output_type": "execute_result"
    }
   ],
   "source": [
    "power_mod(4,3,10**6)"
   ]
  },
  {
   "cell_type": "code",
   "execution_count": 36,
   "id": "8e4a0066-23ff-491a-be72-67bd480a815a",
   "metadata": {},
   "outputs": [
    {
     "data": {
      "text/plain": [
       "64"
      ]
     },
     "execution_count": 36,
     "metadata": {},
     "output_type": "execute_result"
    }
   ],
   "source": [
    "power_mod(4,3,mode=10**6)"
   ]
  },
  {
   "cell_type": "code",
   "execution_count": 44,
   "id": "b60b99a1-81ad-4744-bab4-9e7306d0c389",
   "metadata": {},
   "outputs": [],
   "source": [
    "def avg(*numbers: int)-> float:\n",
    "    print(numbers)\n",
    "    print(type(numbers))\n",
    "    print(sum(numbers))\n",
    "    print(len(numbers))\n",
    "    return sum(numbers) / len(numbers)"
   ]
  },
  {
   "cell_type": "code",
   "execution_count": 39,
   "id": "1100aafe-393c-4834-9b22-580d7315107c",
   "metadata": {},
   "outputs": [
    {
     "data": {
      "text/plain": [
       "3.2"
      ]
     },
     "execution_count": 39,
     "metadata": {},
     "output_type": "execute_result"
    }
   ],
   "source": [
    "avg(1,1,2,5,7)"
   ]
  },
  {
   "cell_type": "code",
   "execution_count": 45,
   "id": "b8ab0b50-e70d-4b36-a2ef-b2ef1060f579",
   "metadata": {},
   "outputs": [
    {
     "name": "stdout",
     "output_type": "stream",
     "text": [
      "(1, 2, 3, 4, 5, 6, 7, 8, 9, 10)\n",
      "<class 'tuple'>\n",
      "55\n",
      "10\n"
     ]
    },
    {
     "data": {
      "text/plain": [
       "5.5"
      ]
     },
     "execution_count": 45,
     "metadata": {},
     "output_type": "execute_result"
    }
   ],
   "source": [
    "avg(1,2,3,4,5,6,7,8,9,10)\n",
    "#tuple better performance "
   ]
  },
  {
   "cell_type": "code",
   "execution_count": 46,
   "id": "bec21a83-9c2d-4985-99f6-f7c170905e8a",
   "metadata": {},
   "outputs": [],
   "source": [
    "def user(username: str, **informations):\n",
    "    print(informations)\n",
    "    print(type(informations))"
   ]
  },
  {
   "cell_type": "code",
   "execution_count": 47,
   "id": "f2b9fa13-89a0-4e2a-9a99-db612b6c4dd7",
   "metadata": {},
   "outputs": [
    {
     "name": "stdout",
     "output_type": "stream",
     "text": [
      "{'age': 22, 'city': 'Sabzevar'}\n",
      "<class 'dict'>\n"
     ]
    }
   ],
   "source": [
    "user(\"Trinity\", age= 22, city=\"Sabzevar\")"
   ]
  },
  {
   "cell_type": "code",
   "execution_count": null,
   "id": "5d7d0be7-59d1-41c9-bb02-c061cabdf04b",
   "metadata": {},
   "outputs": [],
   "source": []
  }
 ],
 "metadata": {
  "kernelspec": {
   "display_name": "Python 3 (ipykernel)",
   "language": "python",
   "name": "python3"
  },
  "language_info": {
   "codemirror_mode": {
    "name": "ipython",
    "version": 3
   },
   "file_extension": ".py",
   "mimetype": "text/x-python",
   "name": "python",
   "nbconvert_exporter": "python",
   "pygments_lexer": "ipython3",
   "version": "3.12.4"
  }
 },
 "nbformat": 4,
 "nbformat_minor": 5
}
